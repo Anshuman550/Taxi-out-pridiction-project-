{
 "cells": [
  {
   "cell_type": "code",
   "execution_count": 127,
   "id": "31242da2",
   "metadata": {},
   "outputs": [],
   "source": [
    "import pandas as pd\n",
    "import numpy as np\n",
    "import matplotlib.pyplot as plt\n",
    "%matplotlib inline"
   ]
  },
  {
   "cell_type": "code",
   "execution_count": 3,
   "id": "d5c7d919",
   "metadata": {},
   "outputs": [],
   "source": [
    "df = pd.read_csv(\"M1_final.csv\")"
   ]
  },
  {
   "cell_type": "code",
   "execution_count": 4,
   "id": "adca320a",
   "metadata": {},
   "outputs": [
    {
     "data": {
      "text/html": [
       "<div>\n",
       "<style scoped>\n",
       "    .dataframe tbody tr th:only-of-type {\n",
       "        vertical-align: middle;\n",
       "    }\n",
       "\n",
       "    .dataframe tbody tr th {\n",
       "        vertical-align: top;\n",
       "    }\n",
       "\n",
       "    .dataframe thead th {\n",
       "        text-align: right;\n",
       "    }\n",
       "</style>\n",
       "<table border=\"1\" class=\"dataframe\">\n",
       "  <thead>\n",
       "    <tr style=\"text-align: right;\">\n",
       "      <th></th>\n",
       "      <th>MONTH</th>\n",
       "      <th>DAY_OF_MONTH</th>\n",
       "      <th>DAY_OF_WEEK</th>\n",
       "      <th>OP_UNIQUE_CARRIER</th>\n",
       "      <th>TAIL_NUM</th>\n",
       "      <th>DEST</th>\n",
       "      <th>DEP_DELAY</th>\n",
       "      <th>CRS_ELAPSED_TIME</th>\n",
       "      <th>DISTANCE</th>\n",
       "      <th>CRS_DEP_M</th>\n",
       "      <th>...</th>\n",
       "      <th>Dew Point</th>\n",
       "      <th>Humidity</th>\n",
       "      <th>Wind</th>\n",
       "      <th>Wind Speed</th>\n",
       "      <th>Wind Gust</th>\n",
       "      <th>Pressure</th>\n",
       "      <th>Condition</th>\n",
       "      <th>sch_dep</th>\n",
       "      <th>sch_arr</th>\n",
       "      <th>TAXI_OUT</th>\n",
       "    </tr>\n",
       "  </thead>\n",
       "  <tbody>\n",
       "    <tr>\n",
       "      <th>0</th>\n",
       "      <td>11</td>\n",
       "      <td>1</td>\n",
       "      <td>5</td>\n",
       "      <td>B6</td>\n",
       "      <td>N828JB</td>\n",
       "      <td>CHS</td>\n",
       "      <td>-1</td>\n",
       "      <td>124</td>\n",
       "      <td>636</td>\n",
       "      <td>324</td>\n",
       "      <td>...</td>\n",
       "      <td>34</td>\n",
       "      <td>58</td>\n",
       "      <td>W</td>\n",
       "      <td>25</td>\n",
       "      <td>38</td>\n",
       "      <td>29.86</td>\n",
       "      <td>Fair / Windy</td>\n",
       "      <td>9</td>\n",
       "      <td>17</td>\n",
       "      <td>14</td>\n",
       "    </tr>\n",
       "    <tr>\n",
       "      <th>1</th>\n",
       "      <td>11</td>\n",
       "      <td>1</td>\n",
       "      <td>5</td>\n",
       "      <td>B6</td>\n",
       "      <td>N992JB</td>\n",
       "      <td>LAX</td>\n",
       "      <td>-7</td>\n",
       "      <td>371</td>\n",
       "      <td>2475</td>\n",
       "      <td>340</td>\n",
       "      <td>...</td>\n",
       "      <td>34</td>\n",
       "      <td>58</td>\n",
       "      <td>W</td>\n",
       "      <td>25</td>\n",
       "      <td>38</td>\n",
       "      <td>29.86</td>\n",
       "      <td>Fair / Windy</td>\n",
       "      <td>9</td>\n",
       "      <td>17</td>\n",
       "      <td>15</td>\n",
       "    </tr>\n",
       "    <tr>\n",
       "      <th>2</th>\n",
       "      <td>11</td>\n",
       "      <td>1</td>\n",
       "      <td>5</td>\n",
       "      <td>B6</td>\n",
       "      <td>N959JB</td>\n",
       "      <td>FLL</td>\n",
       "      <td>40</td>\n",
       "      <td>181</td>\n",
       "      <td>1069</td>\n",
       "      <td>301</td>\n",
       "      <td>...</td>\n",
       "      <td>34</td>\n",
       "      <td>58</td>\n",
       "      <td>W</td>\n",
       "      <td>25</td>\n",
       "      <td>38</td>\n",
       "      <td>29.86</td>\n",
       "      <td>Fair / Windy</td>\n",
       "      <td>9</td>\n",
       "      <td>17</td>\n",
       "      <td>22</td>\n",
       "    </tr>\n",
       "    <tr>\n",
       "      <th>3</th>\n",
       "      <td>11</td>\n",
       "      <td>1</td>\n",
       "      <td>5</td>\n",
       "      <td>B6</td>\n",
       "      <td>N999JQ</td>\n",
       "      <td>MCO</td>\n",
       "      <td>-2</td>\n",
       "      <td>168</td>\n",
       "      <td>944</td>\n",
       "      <td>345</td>\n",
       "      <td>...</td>\n",
       "      <td>34</td>\n",
       "      <td>58</td>\n",
       "      <td>W</td>\n",
       "      <td>25</td>\n",
       "      <td>38</td>\n",
       "      <td>29.86</td>\n",
       "      <td>Fair / Windy</td>\n",
       "      <td>9</td>\n",
       "      <td>17</td>\n",
       "      <td>12</td>\n",
       "    </tr>\n",
       "    <tr>\n",
       "      <th>4</th>\n",
       "      <td>11</td>\n",
       "      <td>1</td>\n",
       "      <td>5</td>\n",
       "      <td>DL</td>\n",
       "      <td>N880DN</td>\n",
       "      <td>ATL</td>\n",
       "      <td>-4</td>\n",
       "      <td>139</td>\n",
       "      <td>760</td>\n",
       "      <td>360</td>\n",
       "      <td>...</td>\n",
       "      <td>32</td>\n",
       "      <td>58</td>\n",
       "      <td>W</td>\n",
       "      <td>24</td>\n",
       "      <td>35</td>\n",
       "      <td>29.91</td>\n",
       "      <td>Fair / Windy</td>\n",
       "      <td>9</td>\n",
       "      <td>17</td>\n",
       "      <td>13</td>\n",
       "    </tr>\n",
       "  </tbody>\n",
       "</table>\n",
       "<p>5 rows × 23 columns</p>\n",
       "</div>"
      ],
      "text/plain": [
       "   MONTH  DAY_OF_MONTH  DAY_OF_WEEK OP_UNIQUE_CARRIER TAIL_NUM DEST  \\\n",
       "0     11             1            5                B6   N828JB  CHS   \n",
       "1     11             1            5                B6   N992JB  LAX   \n",
       "2     11             1            5                B6   N959JB  FLL   \n",
       "3     11             1            5                B6   N999JQ  MCO   \n",
       "4     11             1            5                DL   N880DN  ATL   \n",
       "\n",
       "   DEP_DELAY  CRS_ELAPSED_TIME  DISTANCE  CRS_DEP_M  ...  Dew Point  Humidity  \\\n",
       "0         -1               124       636        324  ...         34        58   \n",
       "1         -7               371      2475        340  ...         34        58   \n",
       "2         40               181      1069        301  ...         34        58   \n",
       "3         -2               168       944        345  ...         34        58   \n",
       "4         -4               139       760        360  ...         32        58   \n",
       "\n",
       "   Wind Wind Speed  Wind Gust Pressure     Condition  sch_dep  sch_arr  \\\n",
       "0     W         25         38    29.86  Fair / Windy        9       17   \n",
       "1     W         25         38    29.86  Fair / Windy        9       17   \n",
       "2     W         25         38    29.86  Fair / Windy        9       17   \n",
       "3     W         25         38    29.86  Fair / Windy        9       17   \n",
       "4     W         24         35    29.91  Fair / Windy        9       17   \n",
       "\n",
       "  TAXI_OUT  \n",
       "0       14  \n",
       "1       15  \n",
       "2       22  \n",
       "3       12  \n",
       "4       13  \n",
       "\n",
       "[5 rows x 23 columns]"
      ]
     },
     "execution_count": 4,
     "metadata": {},
     "output_type": "execute_result"
    }
   ],
   "source": [
    "df.head()"
   ]
  },
  {
   "cell_type": "code",
   "execution_count": 5,
   "id": "bce9b308",
   "metadata": {},
   "outputs": [
    {
     "data": {
      "text/plain": [
       "(28820, 23)"
      ]
     },
     "execution_count": 5,
     "metadata": {},
     "output_type": "execute_result"
    }
   ],
   "source": [
    "df.shape"
   ]
  },
  {
   "cell_type": "markdown",
   "id": "3a2d0330",
   "metadata": {},
   "source": [
    "##Level encoding"
   ]
  },
  {
   "cell_type": "code",
   "execution_count": 22,
   "id": "c74f4698",
   "metadata": {},
   "outputs": [],
   "source": [
    "from sklearn.preprocessing import LabelEncoder\n",
    "le= LabelEncoder()"
   ]
  },
  {
   "cell_type": "code",
   "execution_count": 61,
   "id": "adb3c971",
   "metadata": {},
   "outputs": [],
   "source": [
    "df_label_encoded= df\n",
    "df_one_encoded =df"
   ]
  },
  {
   "cell_type": "code",
   "execution_count": 25,
   "id": "68f7c275",
   "metadata": {},
   "outputs": [],
   "source": []
  },
  {
   "cell_type": "code",
   "execution_count": 26,
   "id": "2b1779f3",
   "metadata": {},
   "outputs": [],
   "source": [
    "df_label_encoded[\"OP_UNIQUE_CARRIER\"]= le.fit_transform(df[\"OP_UNIQUE_CARRIER\"])\n",
    "df_label_encoded[\"TAIL_NUM\"] =le.fit_transform(df[\"TAIL_NUM\"] )\n",
    "df_label_encoded[\"DEST\"] =le.fit_transform(df[\"DEST\"] )\n",
    "df_label_encoded[\"Wind\"] =le.fit_transform(df[\"Wind\"] )\n",
    "df_label_encoded[\"Condition\"] =le.fit_transform(df[\"Condition\"] )"
   ]
  },
  {
   "cell_type": "code",
   "execution_count": 27,
   "id": "9ae797eb",
   "metadata": {},
   "outputs": [
    {
     "data": {
      "text/html": [
       "<div>\n",
       "<style scoped>\n",
       "    .dataframe tbody tr th:only-of-type {\n",
       "        vertical-align: middle;\n",
       "    }\n",
       "\n",
       "    .dataframe tbody tr th {\n",
       "        vertical-align: top;\n",
       "    }\n",
       "\n",
       "    .dataframe thead th {\n",
       "        text-align: right;\n",
       "    }\n",
       "</style>\n",
       "<table border=\"1\" class=\"dataframe\">\n",
       "  <thead>\n",
       "    <tr style=\"text-align: right;\">\n",
       "      <th></th>\n",
       "      <th>MONTH</th>\n",
       "      <th>DAY_OF_MONTH</th>\n",
       "      <th>DAY_OF_WEEK</th>\n",
       "      <th>OP_UNIQUE_CARRIER</th>\n",
       "      <th>TAIL_NUM</th>\n",
       "      <th>DEST</th>\n",
       "      <th>DEP_DELAY</th>\n",
       "      <th>CRS_ELAPSED_TIME</th>\n",
       "      <th>DISTANCE</th>\n",
       "      <th>CRS_DEP_M</th>\n",
       "      <th>...</th>\n",
       "      <th>Temperature</th>\n",
       "      <th>Humidity</th>\n",
       "      <th>Wind</th>\n",
       "      <th>Wind Speed</th>\n",
       "      <th>Wind Gust</th>\n",
       "      <th>Pressure</th>\n",
       "      <th>Condition</th>\n",
       "      <th>sch_dep</th>\n",
       "      <th>sch_arr</th>\n",
       "      <th>TAXI_OUT</th>\n",
       "    </tr>\n",
       "  </thead>\n",
       "  <tbody>\n",
       "    <tr>\n",
       "      <th>count</th>\n",
       "      <td>28820.000000</td>\n",
       "      <td>28820.000000</td>\n",
       "      <td>28820.000000</td>\n",
       "      <td>28820.000000</td>\n",
       "      <td>28820.000000</td>\n",
       "      <td>28820.000000</td>\n",
       "      <td>28820.000000</td>\n",
       "      <td>28820.000000</td>\n",
       "      <td>28820.000000</td>\n",
       "      <td>28820.000000</td>\n",
       "      <td>...</td>\n",
       "      <td>28820.000000</td>\n",
       "      <td>28820.000000</td>\n",
       "      <td>28820.000000</td>\n",
       "      <td>28820.000000</td>\n",
       "      <td>28820.000000</td>\n",
       "      <td>28820.000000</td>\n",
       "      <td>28820.000000</td>\n",
       "      <td>28820.000000</td>\n",
       "      <td>28820.000000</td>\n",
       "      <td>28820.000000</td>\n",
       "    </tr>\n",
       "    <tr>\n",
       "      <th>mean</th>\n",
       "      <td>7.894240</td>\n",
       "      <td>16.021096</td>\n",
       "      <td>4.008952</td>\n",
       "      <td>2.828348</td>\n",
       "      <td>1024.922415</td>\n",
       "      <td>31.019362</td>\n",
       "      <td>6.374983</td>\n",
       "      <td>225.288203</td>\n",
       "      <td>1267.746079</td>\n",
       "      <td>831.003851</td>\n",
       "      <td>...</td>\n",
       "      <td>41.489833</td>\n",
       "      <td>57.732616</td>\n",
       "      <td>9.577793</td>\n",
       "      <td>12.367627</td>\n",
       "      <td>5.535323</td>\n",
       "      <td>30.092433</td>\n",
       "      <td>10.371131</td>\n",
       "      <td>31.091256</td>\n",
       "      <td>28.432130</td>\n",
       "      <td>20.858570</td>\n",
       "    </tr>\n",
       "    <tr>\n",
       "      <th>std</th>\n",
       "      <td>4.991723</td>\n",
       "      <td>8.750179</td>\n",
       "      <td>1.985230</td>\n",
       "      <td>1.865362</td>\n",
       "      <td>656.024238</td>\n",
       "      <td>18.726958</td>\n",
       "      <td>38.735144</td>\n",
       "      <td>119.482417</td>\n",
       "      <td>889.343246</td>\n",
       "      <td>299.398525</td>\n",
       "      <td>...</td>\n",
       "      <td>8.043533</td>\n",
       "      <td>23.468676</td>\n",
       "      <td>5.101199</td>\n",
       "      <td>6.259298</td>\n",
       "      <td>11.886457</td>\n",
       "      <td>0.296160</td>\n",
       "      <td>7.273523</td>\n",
       "      <td>9.510359</td>\n",
       "      <td>8.263043</td>\n",
       "      <td>6.851915</td>\n",
       "    </tr>\n",
       "    <tr>\n",
       "      <th>min</th>\n",
       "      <td>1.000000</td>\n",
       "      <td>1.000000</td>\n",
       "      <td>1.000000</td>\n",
       "      <td>0.000000</td>\n",
       "      <td>0.000000</td>\n",
       "      <td>0.000000</td>\n",
       "      <td>-22.000000</td>\n",
       "      <td>57.000000</td>\n",
       "      <td>94.000000</td>\n",
       "      <td>301.000000</td>\n",
       "      <td>...</td>\n",
       "      <td>17.000000</td>\n",
       "      <td>0.000000</td>\n",
       "      <td>0.000000</td>\n",
       "      <td>0.000000</td>\n",
       "      <td>0.000000</td>\n",
       "      <td>29.200000</td>\n",
       "      <td>0.000000</td>\n",
       "      <td>0.000000</td>\n",
       "      <td>0.000000</td>\n",
       "      <td>5.000000</td>\n",
       "    </tr>\n",
       "    <tr>\n",
       "      <th>25%</th>\n",
       "      <td>1.000000</td>\n",
       "      <td>8.000000</td>\n",
       "      <td>2.000000</td>\n",
       "      <td>1.000000</td>\n",
       "      <td>403.000000</td>\n",
       "      <td>15.000000</td>\n",
       "      <td>-6.000000</td>\n",
       "      <td>124.000000</td>\n",
       "      <td>483.000000</td>\n",
       "      <td>545.000000</td>\n",
       "      <td>...</td>\n",
       "      <td>36.000000</td>\n",
       "      <td>46.000000</td>\n",
       "      <td>6.000000</td>\n",
       "      <td>8.000000</td>\n",
       "      <td>0.000000</td>\n",
       "      <td>29.880000</td>\n",
       "      <td>3.000000</td>\n",
       "      <td>26.000000</td>\n",
       "      <td>21.000000</td>\n",
       "      <td>16.000000</td>\n",
       "    </tr>\n",
       "    <tr>\n",
       "      <th>50%</th>\n",
       "      <td>11.000000</td>\n",
       "      <td>16.000000</td>\n",
       "      <td>4.000000</td>\n",
       "      <td>3.000000</td>\n",
       "      <td>1036.000000</td>\n",
       "      <td>28.000000</td>\n",
       "      <td>-3.000000</td>\n",
       "      <td>188.000000</td>\n",
       "      <td>1029.000000</td>\n",
       "      <td>856.000000</td>\n",
       "      <td>...</td>\n",
       "      <td>42.000000</td>\n",
       "      <td>59.000000</td>\n",
       "      <td>9.000000</td>\n",
       "      <td>12.000000</td>\n",
       "      <td>0.000000</td>\n",
       "      <td>30.110000</td>\n",
       "      <td>16.000000</td>\n",
       "      <td>30.000000</td>\n",
       "      <td>30.000000</td>\n",
       "      <td>19.000000</td>\n",
       "    </tr>\n",
       "    <tr>\n",
       "      <th>75%</th>\n",
       "      <td>12.000000</td>\n",
       "      <td>24.000000</td>\n",
       "      <td>6.000000</td>\n",
       "      <td>4.000000</td>\n",
       "      <td>1615.000000</td>\n",
       "      <td>48.000000</td>\n",
       "      <td>2.000000</td>\n",
       "      <td>365.000000</td>\n",
       "      <td>2248.000000</td>\n",
       "      <td>1095.000000</td>\n",
       "      <td>...</td>\n",
       "      <td>47.000000</td>\n",
       "      <td>74.000000</td>\n",
       "      <td>15.000000</td>\n",
       "      <td>16.000000</td>\n",
       "      <td>0.000000</td>\n",
       "      <td>30.320000</td>\n",
       "      <td>16.000000</td>\n",
       "      <td>37.000000</td>\n",
       "      <td>35.000000</td>\n",
       "      <td>25.000000</td>\n",
       "    </tr>\n",
       "    <tr>\n",
       "      <th>max</th>\n",
       "      <td>12.000000</td>\n",
       "      <td>31.000000</td>\n",
       "      <td>7.000000</td>\n",
       "      <td>8.000000</td>\n",
       "      <td>2091.000000</td>\n",
       "      <td>64.000000</td>\n",
       "      <td>1276.000000</td>\n",
       "      <td>697.000000</td>\n",
       "      <td>4983.000000</td>\n",
       "      <td>1439.000000</td>\n",
       "      <td>...</td>\n",
       "      <td>68.000000</td>\n",
       "      <td>97.000000</td>\n",
       "      <td>18.000000</td>\n",
       "      <td>36.000000</td>\n",
       "      <td>49.000000</td>\n",
       "      <td>30.750000</td>\n",
       "      <td>24.000000</td>\n",
       "      <td>55.000000</td>\n",
       "      <td>46.000000</td>\n",
       "      <td>41.000000</td>\n",
       "    </tr>\n",
       "  </tbody>\n",
       "</table>\n",
       "<p>8 rows × 22 columns</p>\n",
       "</div>"
      ],
      "text/plain": [
       "              MONTH  DAY_OF_MONTH   DAY_OF_WEEK  OP_UNIQUE_CARRIER  \\\n",
       "count  28820.000000  28820.000000  28820.000000       28820.000000   \n",
       "mean       7.894240     16.021096      4.008952           2.828348   \n",
       "std        4.991723      8.750179      1.985230           1.865362   \n",
       "min        1.000000      1.000000      1.000000           0.000000   \n",
       "25%        1.000000      8.000000      2.000000           1.000000   \n",
       "50%       11.000000     16.000000      4.000000           3.000000   \n",
       "75%       12.000000     24.000000      6.000000           4.000000   \n",
       "max       12.000000     31.000000      7.000000           8.000000   \n",
       "\n",
       "           TAIL_NUM          DEST     DEP_DELAY  CRS_ELAPSED_TIME  \\\n",
       "count  28820.000000  28820.000000  28820.000000      28820.000000   \n",
       "mean    1024.922415     31.019362      6.374983        225.288203   \n",
       "std      656.024238     18.726958     38.735144        119.482417   \n",
       "min        0.000000      0.000000    -22.000000         57.000000   \n",
       "25%      403.000000     15.000000     -6.000000        124.000000   \n",
       "50%     1036.000000     28.000000     -3.000000        188.000000   \n",
       "75%     1615.000000     48.000000      2.000000        365.000000   \n",
       "max     2091.000000     64.000000   1276.000000        697.000000   \n",
       "\n",
       "           DISTANCE     CRS_DEP_M  ...   Temperature      Humidity  \\\n",
       "count  28820.000000  28820.000000  ...  28820.000000  28820.000000   \n",
       "mean    1267.746079    831.003851  ...     41.489833     57.732616   \n",
       "std      889.343246    299.398525  ...      8.043533     23.468676   \n",
       "min       94.000000    301.000000  ...     17.000000      0.000000   \n",
       "25%      483.000000    545.000000  ...     36.000000     46.000000   \n",
       "50%     1029.000000    856.000000  ...     42.000000     59.000000   \n",
       "75%     2248.000000   1095.000000  ...     47.000000     74.000000   \n",
       "max     4983.000000   1439.000000  ...     68.000000     97.000000   \n",
       "\n",
       "               Wind    Wind Speed     Wind Gust      Pressure     Condition  \\\n",
       "count  28820.000000  28820.000000  28820.000000  28820.000000  28820.000000   \n",
       "mean       9.577793     12.367627      5.535323     30.092433     10.371131   \n",
       "std        5.101199      6.259298     11.886457      0.296160      7.273523   \n",
       "min        0.000000      0.000000      0.000000     29.200000      0.000000   \n",
       "25%        6.000000      8.000000      0.000000     29.880000      3.000000   \n",
       "50%        9.000000     12.000000      0.000000     30.110000     16.000000   \n",
       "75%       15.000000     16.000000      0.000000     30.320000     16.000000   \n",
       "max       18.000000     36.000000     49.000000     30.750000     24.000000   \n",
       "\n",
       "            sch_dep       sch_arr      TAXI_OUT  \n",
       "count  28820.000000  28820.000000  28820.000000  \n",
       "mean      31.091256     28.432130     20.858570  \n",
       "std        9.510359      8.263043      6.851915  \n",
       "min        0.000000      0.000000      5.000000  \n",
       "25%       26.000000     21.000000     16.000000  \n",
       "50%       30.000000     30.000000     19.000000  \n",
       "75%       37.000000     35.000000     25.000000  \n",
       "max       55.000000     46.000000     41.000000  \n",
       "\n",
       "[8 rows x 22 columns]"
      ]
     },
     "execution_count": 27,
     "metadata": {},
     "output_type": "execute_result"
    }
   ],
   "source": [
    "df_label_encoded.describe()"
   ]
  },
  {
   "cell_type": "code",
   "execution_count": 29,
   "id": "e0467448",
   "metadata": {},
   "outputs": [],
   "source": [
    "x_label= df_label_encoded.drop([\"TAXI_OUT\"],axis=1)"
   ]
  },
  {
   "cell_type": "code",
   "execution_count": 30,
   "id": "6ef32129",
   "metadata": {},
   "outputs": [],
   "source": [
    "y_label= df_label_encoded[\"TAXI_OUT\"]"
   ]
  },
  {
   "cell_type": "code",
   "execution_count": 32,
   "id": "04f1c74c",
   "metadata": {},
   "outputs": [
    {
     "data": {
      "text/plain": [
       "(28820, 22)"
      ]
     },
     "execution_count": 32,
     "metadata": {},
     "output_type": "execute_result"
    }
   ],
   "source": [
    "x_label.shape"
   ]
  },
  {
   "cell_type": "markdown",
   "id": "cc5559a1",
   "metadata": {},
   "source": [
    "## split the data into train and test data"
   ]
  },
  {
   "cell_type": "code",
   "execution_count": 34,
   "id": "444a06f4",
   "metadata": {},
   "outputs": [],
   "source": [
    "from sklearn.model_selection import train_test_split"
   ]
  },
  {
   "cell_type": "code",
   "execution_count": 85,
   "id": "34f60b9e",
   "metadata": {},
   "outputs": [],
   "source": [
    "x_train_label, x_test_label, y_train, y_test = train_test_split(x_label, y_label, test_size=0.2)"
   ]
  },
  {
   "cell_type": "code",
   "execution_count": 86,
   "id": "1873ec75",
   "metadata": {},
   "outputs": [
    {
     "data": {
      "text/plain": [
       "(5764,)"
      ]
     },
     "execution_count": 86,
     "metadata": {},
     "output_type": "execute_result"
    }
   ],
   "source": [
    "y_test.shape"
   ]
  },
  {
   "cell_type": "code",
   "execution_count": 87,
   "id": "20d54c29",
   "metadata": {},
   "outputs": [
    {
     "data": {
      "text/plain": [
       "(23056,)"
      ]
     },
     "execution_count": 87,
     "metadata": {},
     "output_type": "execute_result"
    }
   ],
   "source": [
    "y_train.shape"
   ]
  },
  {
   "cell_type": "markdown",
   "id": "405dc0ff",
   "metadata": {},
   "source": [
    "## one hot encoding"
   ]
  },
  {
   "cell_type": "code",
   "execution_count": 50,
   "id": "87ed6a5e",
   "metadata": {},
   "outputs": [
    {
     "data": {
      "text/plain": [
       "(28820, 23)"
      ]
     },
     "execution_count": 50,
     "metadata": {},
     "output_type": "execute_result"
    }
   ],
   "source": [
    "df_one_encoded.shape"
   ]
  },
  {
   "cell_type": "markdown",
   "id": "d24c0e9e",
   "metadata": {},
   "source": [
    "##linear regression"
   ]
  },
  {
   "cell_type": "code",
   "execution_count": 54,
   "id": "9bbba224",
   "metadata": {},
   "outputs": [],
   "source": [
    "from sklearn.preprocessing import OneHotEncoder\n",
    "oh = OneHotEncoder(handle_unknown='ignore')"
   ]
  },
  {
   "cell_type": "code",
   "execution_count": 62,
   "id": "3f6ef5a4",
   "metadata": {},
   "outputs": [],
   "source": [
    "df_one_encoded= pd.get_dummies(df_one_encoded,columns=[\"OP_UNIQUE_CARRIER\",\"DEST\",\"Wind\",\"Condition\"] )"
   ]
  },
  {
   "cell_type": "code",
   "execution_count": 63,
   "id": "ed8fc408",
   "metadata": {},
   "outputs": [
    {
     "data": {
      "text/plain": [
       "(28820, 137)"
      ]
     },
     "execution_count": 63,
     "metadata": {},
     "output_type": "execute_result"
    }
   ],
   "source": [
    "df_one_encoded.shape"
   ]
  },
  {
   "cell_type": "code",
   "execution_count": 64,
   "id": "e4bd9cfb",
   "metadata": {},
   "outputs": [],
   "source": [
    "x_one= df_one_encoded.drop([\"TAXI_OUT\"],axis=1)"
   ]
  },
  {
   "cell_type": "code",
   "execution_count": 82,
   "id": "b61fcb67",
   "metadata": {},
   "outputs": [],
   "source": [
    "x_train_one, x_test_one, y_train_one, y_test_one= train_test_split(x_one,y_label, test_size= 0.2)"
   ]
  },
  {
   "cell_type": "code",
   "execution_count": 83,
   "id": "ad5b3283",
   "metadata": {},
   "outputs": [
    {
     "data": {
      "text/plain": [
       "(23056,)"
      ]
     },
     "execution_count": 83,
     "metadata": {},
     "output_type": "execute_result"
    }
   ],
   "source": [
    "y_train_one.shape"
   ]
  },
  {
   "cell_type": "code",
   "execution_count": 84,
   "id": "7c2316c0",
   "metadata": {},
   "outputs": [
    {
     "data": {
      "text/plain": [
       "(23056, 136)"
      ]
     },
     "execution_count": 84,
     "metadata": {},
     "output_type": "execute_result"
    }
   ],
   "source": [
    "x_train_one.shape"
   ]
  },
  {
   "cell_type": "markdown",
   "id": "5766770d",
   "metadata": {},
   "source": [
    "## different models"
   ]
  },
  {
   "cell_type": "markdown",
   "id": "955fb8ca",
   "metadata": {},
   "source": [
    "## linear reg"
   ]
  },
  {
   "cell_type": "code",
   "execution_count": 115,
   "id": "aeea8694",
   "metadata": {},
   "outputs": [
    {
     "name": "stdout",
     "output_type": "stream",
     "text": [
      "6.5231194717407925\n",
      "7.204616643210202\n"
     ]
    }
   ],
   "source": [
    "from sklearn.linear_model import LinearRegression\n",
    "from sklearn import metrics\n",
    "lr= LinearRegression()\n",
    "\n",
    "lr.fit(x_train_label,y_train)\n",
    "y_predicted_label= lr.predict(x_test_label)\n",
    "lnr_error_label =metrics.mean_squared_error(y_predicted_label,y_test)** 0.5\n",
    "print(lnr_error_label)\n",
    "\n",
    "lr.fit(x_train_one,y_train_one)\n",
    "y_predict_one=lr.predict(x_test_one)\n",
    "lnr_error_one= metrics.mean_squared_error(y_predicted_label, y_test_one)**0.5\n",
    "print(lnr_error_one)"
   ]
  },
  {
   "cell_type": "code",
   "execution_count": 106,
   "id": "fd66e941",
   "metadata": {},
   "outputs": [
    {
     "data": {
      "text/plain": [
       "24528    37\n",
       "27654    27\n",
       "27850    20\n",
       "28638    21\n",
       "17995    12\n",
       "         ..\n",
       "9005     20\n",
       "15289    18\n",
       "4501     16\n",
       "10398    20\n",
       "3517     19\n",
       "Name: TAXI_OUT, Length: 5764, dtype: int64"
      ]
     },
     "execution_count": 106,
     "metadata": {},
     "output_type": "execute_result"
    }
   ],
   "source": [
    "y_test_one"
   ]
  },
  {
   "cell_type": "code",
   "execution_count": 105,
   "id": "830e8346",
   "metadata": {},
   "outputs": [
    {
     "data": {
      "text/plain": [
       "array([20.2497645 , 21.87140281, 19.91540219, ..., 23.0068679 ,\n",
       "       19.68470842, 19.8722727 ])"
      ]
     },
     "execution_count": 105,
     "metadata": {},
     "output_type": "execute_result"
    }
   ],
   "source": [
    "y_predict_one"
   ]
  },
  {
   "cell_type": "code",
   "execution_count": 134,
   "id": "fe8c2103",
   "metadata": {},
   "outputs": [
    {
     "name": "stdout",
     "output_type": "stream",
     "text": [
      "6.523118626253149\n",
      "7.20460854014055\n"
     ]
    }
   ],
   "source": [
    "from sklearn.linear_model import Ridge\n",
    "\n",
    "rg= Ridge()\n",
    "\n",
    "rg.fit(x_train_label,y_train)\n",
    "y_predicted_label= rg.predict(x_test_label)\n",
    "rg_error_label =(metrics.mean_squared_error(y_predicted_label,y_test))** 0.5\n",
    "print(rg_error_label)\n",
    "\n",
    "rg.fit(x_train_one,y_train_one)\n",
    "y_predict_one=rg.predict(x_test_one)\n",
    "rg_error_one= (metrics.mean_squared_error(y_predicted_label, y_test_one))**0.5\n",
    "print(rg_error_one)"
   ]
  },
  {
   "cell_type": "code",
   "execution_count": null,
   "id": "8a3870b2",
   "metadata": {},
   "outputs": [],
   "source": []
  },
  {
   "cell_type": "code",
   "execution_count": 117,
   "id": "c8e23e46",
   "metadata": {},
   "outputs": [
    {
     "name": "stdout",
     "output_type": "stream",
     "text": [
      "6.950080254555381\n",
      "7.741302567440845\n"
     ]
    }
   ],
   "source": [
    "from sklearn.neighbors import KNeighborsRegressor\n",
    "\n",
    "knn= KNeighborsRegressor()\n",
    "\n",
    "knn.fit(x_train_label,y_train)\n",
    "y_predicted_label= knn.predict(x_test_label)\n",
    "knn_error_label =(metrics.mean_squared_error(y_predicted_label,y_test))** 0.5\n",
    "print(knn_error_label)\n",
    "\n",
    "knn.fit(x_train_one,y_train_one)\n",
    "y_predict_one=knn.predict(x_test_one)\n",
    "knn_error_one= (metrics.mean_squared_error(y_predicted_label, y_test_one))**0.5\n",
    "print(knn_error_one)"
   ]
  },
  {
   "cell_type": "code",
   "execution_count": null,
   "id": "ef857a2f",
   "metadata": {},
   "outputs": [],
   "source": []
  },
  {
   "cell_type": "code",
   "execution_count": 118,
   "id": "5a42cff2",
   "metadata": {},
   "outputs": [
    {
     "name": "stdout",
     "output_type": "stream",
     "text": [
      "6.535839480114482\n",
      "7.101770015392018\n"
     ]
    }
   ],
   "source": [
    "from sklearn.linear_model import Lasso\n",
    "\n",
    "lss= Lasso()\n",
    "\n",
    "lss.fit(x_train_label,y_train)\n",
    "y_predicted_label= lss.predict(x_test_label)\n",
    "lss_error_label =(metrics.mean_squared_error(y_predicted_label,y_test))** 0.5\n",
    "print(lss_error_label)\n",
    "\n",
    "lss.fit(x_train_one,y_train_one)\n",
    "y_predict_one=lss.predict(x_test_one)\n",
    "lss_error_one= (metrics.mean_squared_error(y_predicted_label, y_test_one))**0.5\n",
    "print(lss_error_one)"
   ]
  },
  {
   "cell_type": "code",
   "execution_count": null,
   "id": "48ceeada",
   "metadata": {},
   "outputs": [],
   "source": []
  },
  {
   "cell_type": "code",
   "execution_count": 119,
   "id": "68bda8aa",
   "metadata": {},
   "outputs": [
    {
     "name": "stdout",
     "output_type": "stream",
     "text": [
      "6.525378478759445\n",
      "7.19555352126045\n"
     ]
    }
   ],
   "source": [
    "from sklearn.linear_model import BayesianRidge\n",
    "\n",
    "bys= BayesianRidge()\n",
    "\n",
    "bys.fit(x_train_label,y_train)\n",
    "y_predicted_label= bys.predict(x_test_label)\n",
    "bys_error_label =(metrics.mean_squared_error(y_predicted_label,y_test))** 0.5\n",
    "print(bys_error_label)\n",
    "\n",
    "bys.fit(x_train_one,y_train_one)\n",
    "y_predict_one=bys.predict(x_test_one)\n",
    "bys_error_one= (metrics.mean_squared_error(y_predicted_label, y_test_one))**0.5\n",
    "print(bys_error_one)"
   ]
  },
  {
   "cell_type": "code",
   "execution_count": null,
   "id": "450d514a",
   "metadata": {},
   "outputs": [],
   "source": []
  },
  {
   "cell_type": "code",
   "execution_count": 142,
   "id": "2d135bb7",
   "metadata": {},
   "outputs": [
    {
     "name": "stdout",
     "output_type": "stream",
     "text": [
      "5.76178222756556\n",
      "7.767656197790838\n"
     ]
    }
   ],
   "source": [
    "from sklearn.ensemble import RandomForestRegressor\n",
    "\n",
    "rfr= RandomForestRegressor()\n",
    "\n",
    "rfr.fit(x_train_label,y_train)\n",
    "y_predicted_label= rfr.predict(x_test_label)\n",
    "rfr_error_label =(metrics.mean_squared_error(y_predicted_label,y_test))** 0.5\n",
    "print(rfr_error_label)\n",
    "\n",
    "rfr.fit(x_train_one,y_train_one)\n",
    "y_predict_one=rfr.predict(x_test_one)\n",
    "rfr_error_one= (metrics.mean_squared_error(y_predicted_label, y_test_one))**0.5\n",
    "print(rfr_error_one)"
   ]
  },
  {
   "cell_type": "code",
   "execution_count": 168,
   "id": "7fdf3678",
   "metadata": {},
   "outputs": [
    {
     "data": {
      "text/html": [
       "<div>\n",
       "<style scoped>\n",
       "    .dataframe tbody tr th:only-of-type {\n",
       "        vertical-align: middle;\n",
       "    }\n",
       "\n",
       "    .dataframe tbody tr th {\n",
       "        vertical-align: top;\n",
       "    }\n",
       "\n",
       "    .dataframe thead th {\n",
       "        text-align: right;\n",
       "    }\n",
       "</style>\n",
       "<table border=\"1\" class=\"dataframe\">\n",
       "  <thead>\n",
       "    <tr style=\"text-align: right;\">\n",
       "      <th></th>\n",
       "      <th>MONTH</th>\n",
       "      <th>DAY_OF_MONTH</th>\n",
       "      <th>DAY_OF_WEEK</th>\n",
       "      <th>OP_UNIQUE_CARRIER</th>\n",
       "      <th>TAIL_NUM</th>\n",
       "      <th>DEST</th>\n",
       "      <th>DEP_DELAY</th>\n",
       "      <th>CRS_ELAPSED_TIME</th>\n",
       "      <th>DISTANCE</th>\n",
       "      <th>CRS_DEP_M</th>\n",
       "      <th>...</th>\n",
       "      <th>Temperature</th>\n",
       "      <th>Dew Point</th>\n",
       "      <th>Humidity</th>\n",
       "      <th>Wind</th>\n",
       "      <th>Wind Speed</th>\n",
       "      <th>Wind Gust</th>\n",
       "      <th>Pressure</th>\n",
       "      <th>Condition</th>\n",
       "      <th>sch_dep</th>\n",
       "      <th>sch_arr</th>\n",
       "    </tr>\n",
       "  </thead>\n",
       "  <tbody>\n",
       "    <tr>\n",
       "      <th>6243</th>\n",
       "      <td>11</td>\n",
       "      <td>19</td>\n",
       "      <td>2</td>\n",
       "      <td>3</td>\n",
       "      <td>1111</td>\n",
       "      <td>64</td>\n",
       "      <td>-3</td>\n",
       "      <td>179</td>\n",
       "      <td>1005</td>\n",
       "      <td>1305</td>\n",
       "      <td>...</td>\n",
       "      <td>45</td>\n",
       "      <td>34</td>\n",
       "      <td>65</td>\n",
       "      <td>4</td>\n",
       "      <td>10</td>\n",
       "      <td>0</td>\n",
       "      <td>29.87</td>\n",
       "      <td>16</td>\n",
       "      <td>28</td>\n",
       "      <td>34</td>\n",
       "    </tr>\n",
       "    <tr>\n",
       "      <th>19302</th>\n",
       "      <td>1</td>\n",
       "      <td>2</td>\n",
       "      <td>4</td>\n",
       "      <td>8</td>\n",
       "      <td>1332</td>\n",
       "      <td>36</td>\n",
       "      <td>-1</td>\n",
       "      <td>183</td>\n",
       "      <td>740</td>\n",
       "      <td>485</td>\n",
       "      <td>...</td>\n",
       "      <td>37</td>\n",
       "      <td>28</td>\n",
       "      <td>70</td>\n",
       "      <td>13</td>\n",
       "      <td>7</td>\n",
       "      <td>0</td>\n",
       "      <td>29.99</td>\n",
       "      <td>3</td>\n",
       "      <td>50</td>\n",
       "      <td>19</td>\n",
       "    </tr>\n",
       "    <tr>\n",
       "      <th>25058</th>\n",
       "      <td>1</td>\n",
       "      <td>20</td>\n",
       "      <td>1</td>\n",
       "      <td>3</td>\n",
       "      <td>278</td>\n",
       "      <td>36</td>\n",
       "      <td>-3</td>\n",
       "      <td>169</td>\n",
       "      <td>740</td>\n",
       "      <td>989</td>\n",
       "      <td>...</td>\n",
       "      <td>30</td>\n",
       "      <td>0</td>\n",
       "      <td>28</td>\n",
       "      <td>8</td>\n",
       "      <td>15</td>\n",
       "      <td>0</td>\n",
       "      <td>30.30</td>\n",
       "      <td>3</td>\n",
       "      <td>31</td>\n",
       "      <td>31</td>\n",
       "    </tr>\n",
       "    <tr>\n",
       "      <th>24139</th>\n",
       "      <td>1</td>\n",
       "      <td>17</td>\n",
       "      <td>5</td>\n",
       "      <td>0</td>\n",
       "      <td>1009</td>\n",
       "      <td>18</td>\n",
       "      <td>10</td>\n",
       "      <td>140</td>\n",
       "      <td>509</td>\n",
       "      <td>555</td>\n",
       "      <td>...</td>\n",
       "      <td>24</td>\n",
       "      <td>3</td>\n",
       "      <td>40</td>\n",
       "      <td>7</td>\n",
       "      <td>25</td>\n",
       "      <td>31</td>\n",
       "      <td>30.63</td>\n",
       "      <td>4</td>\n",
       "      <td>40</td>\n",
       "      <td>16</td>\n",
       "    </tr>\n",
       "    <tr>\n",
       "      <th>12499</th>\n",
       "      <td>12</td>\n",
       "      <td>10</td>\n",
       "      <td>2</td>\n",
       "      <td>3</td>\n",
       "      <td>2079</td>\n",
       "      <td>44</td>\n",
       "      <td>0</td>\n",
       "      <td>239</td>\n",
       "      <td>1617</td>\n",
       "      <td>1259</td>\n",
       "      <td>...</td>\n",
       "      <td>50</td>\n",
       "      <td>43</td>\n",
       "      <td>77</td>\n",
       "      <td>16</td>\n",
       "      <td>26</td>\n",
       "      <td>36</td>\n",
       "      <td>30.01</td>\n",
       "      <td>13</td>\n",
       "      <td>26</td>\n",
       "      <td>41</td>\n",
       "    </tr>\n",
       "  </tbody>\n",
       "</table>\n",
       "<p>5 rows × 22 columns</p>\n",
       "</div>"
      ],
      "text/plain": [
       "       MONTH  DAY_OF_MONTH  DAY_OF_WEEK  OP_UNIQUE_CARRIER  TAIL_NUM  DEST  \\\n",
       "6243      11            19            2                  3      1111    64   \n",
       "19302      1             2            4                  8      1332    36   \n",
       "25058      1            20            1                  3       278    36   \n",
       "24139      1            17            5                  0      1009    18   \n",
       "12499     12            10            2                  3      2079    44   \n",
       "\n",
       "       DEP_DELAY  CRS_ELAPSED_TIME  DISTANCE  CRS_DEP_M  ...  Temperature  \\\n",
       "6243          -3               179      1005       1305  ...           45   \n",
       "19302         -1               183       740        485  ...           37   \n",
       "25058         -3               169       740        989  ...           30   \n",
       "24139         10               140       509        555  ...           24   \n",
       "12499          0               239      1617       1259  ...           50   \n",
       "\n",
       "       Dew Point  Humidity Wind  Wind Speed  Wind Gust  Pressure  Condition  \\\n",
       "6243          34        65    4          10          0     29.87         16   \n",
       "19302         28        70   13           7          0     29.99          3   \n",
       "25058         0         28    8          15          0     30.30          3   \n",
       "24139         3         40    7          25         31     30.63          4   \n",
       "12499         43        77   16          26         36     30.01         13   \n",
       "\n",
       "       sch_dep  sch_arr  \n",
       "6243        28       34  \n",
       "19302       50       19  \n",
       "25058       31       31  \n",
       "24139       40       16  \n",
       "12499       26       41  \n",
       "\n",
       "[5 rows x 22 columns]"
      ]
     },
     "execution_count": 168,
     "metadata": {},
     "output_type": "execute_result"
    }
   ],
   "source": [
    "x_train_label.head()"
   ]
  },
  {
   "cell_type": "code",
   "execution_count": null,
   "id": "f305cd05",
   "metadata": {},
   "outputs": [],
   "source": [
    "\n"
   ]
  },
  {
   "cell_type": "code",
   "execution_count": null,
   "id": "be65379b",
   "metadata": {},
   "outputs": [],
   "source": []
  },
  {
   "cell_type": "code",
   "execution_count": null,
   "id": "13b5ba1d",
   "metadata": {},
   "outputs": [
    {
     "name": "stdout",
     "output_type": "stream",
     "text": [
      "6.333191212858413\n"
     ]
    }
   ],
   "source": [
    "from sklearn.svm import SVR\n",
    "from sklearn.preprocessing import StandardScaler\n",
    "scl1=StandardScaler()\n",
    "scl2=StandardScaler()\n",
    "x1=x_train_label.copy()\n",
    "x2=x_test_label.copy()\n",
    "x1=scl1.fit_transform(x1)\n",
    "x2=scl2.fit_transform(x2)\n",
    "svr=SVR()\n",
    "svr.fit(x1,y_train)\n",
    "y_predicted_label=svr.predict(x2)\n",
    "\n",
    "\n",
    "\n",
    "svr_error_label =(metrics.mean_squared_error(y_predicted_label,y_test))** 0.5\n",
    "print(svr_error_label)\n",
    "\n",
    "x1=x_train_one.copy()\n",
    "x2=x_test_one.copy()\n",
    "x1=scl1.fit_transform(x1)\n",
    "x2=scl2.fit_transform(x2)\n",
    "svr.fit(x1,y_train_one)\n",
    "y_predicted_one=svr.predict(x2)\n",
    "\n",
    "svr_error_one= (metrics.mean_squared_error(y_predicted_label, y_test_one))**0.5\n",
    "print(svr_error_one)"
   ]
  },
  {
   "cell_type": "code",
   "execution_count": 156,
   "id": "e8595869",
   "metadata": {},
   "outputs": [],
   "source": []
  },
  {
   "cell_type": "code",
   "execution_count": null,
   "id": "cffcecc9",
   "metadata": {},
   "outputs": [],
   "source": []
  },
  {
   "cell_type": "code",
   "execution_count": null,
   "id": "97f28fc7",
   "metadata": {},
   "outputs": [],
   "source": []
  },
  {
   "cell_type": "code",
   "execution_count": 170,
   "id": "53b0fc96",
   "metadata": {},
   "outputs": [],
   "source": [
    "error_label =np.array([lnr_error_label, rg_error_label, knn_error_label, lss_error_label, bys_error_label, rfr_error_label ])\n",
    "error_one=np.array([lnr_error_one, rg_error_one, knn_error_one, lss_error_one, bys_error_one,rfr_error_one ])"
   ]
  },
  {
   "cell_type": "code",
   "execution_count": 179,
   "id": "eb2de1b1",
   "metadata": {},
   "outputs": [
    {
     "data": {
      "text/plain": [
       "<function matplotlib.pyplot.show(close=None, block=None)>"
      ]
     },
     "execution_count": 179,
     "metadata": {},
     "output_type": "execute_result"
    },
    {
     "data": {
      "image/png": "[encoded data removed]",
      "text/plain": [
       "<Figure size 432x288 with 1 Axes>"
      ]
     },
     "metadata": {},
     "output_type": "display_data"
    }
   ],
   "source": [
    "from matplotlib import style\n",
    "style.use(\"ggplot\")\n",
    "plt.plot([\"lnrR\",\"Ridge\",\"KNN\",\"Lasso\",\"NB\",\"RF\"],error_label, \"r\",label=\"label encoding\",linewidth=2)\n",
    "plt.plot([\"lnrR\",\"Ridge\",\"KNN\",\"Lasso\",\"NB\",\"RF\"],error_one, \"b\",label=\"one hot encoding\",linewidth=2)\n",
    "plt.title(\"Comparison\")\n",
    "plt.xlabel(\"models\")\n",
    "plt.ylabel(\"root mean squared error\")\n",
    "plt.legend() \n",
    "plt.grid(True,color=\"k\")\n",
    "plt.show"
   ]
  },
  {
   "cell_type": "code",
   "execution_count": 176,
   "id": "efcb788a",
   "metadata": {},
   "outputs": [
    {
     "data": {
      "text/plain": [
       "(6,)"
      ]
     },
     "execution_count": 176,
     "metadata": {},
     "output_type": "execute_result"
    }
   ],
   "source": [
    "error_label.shape"
   ]
  },
  {
   "cell_type": "code",
   "execution_count": 175,
   "id": "41958987",
   "metadata": {},
   "outputs": [
    {
     "data": {
      "text/plain": [
       "(6,)"
      ]
     },
     "execution_count": 175,
     "metadata": {},
     "output_type": "execute_result"
    }
   ],
   "source": [
    "error_one.shape\n"
   ]
  },
  {
   "cell_type": "code",
   "execution_count": null,
   "id": "c2a4a6f5",
   "metadata": {},
   "outputs": [],
   "source": []
  }
 ],
 "metadata": {
  "kernelspec": {
   "display_name": "Python 3",
   "language": "python",
   "name": "python3"
  },
  "language_info": {
   "codemirror_mode": {
    "name": "ipython",
    "version": 3
   },
   "file_extension": ".py",
   "mimetype": "text/x-python",
   "name": "python",
   "nbconvert_exporter": "python",
   "pygments_lexer": "ipython3",
   "version": "3.7.6"
  }
 },
 "nbformat": 4,
 "nbformat_minor": 5
}
